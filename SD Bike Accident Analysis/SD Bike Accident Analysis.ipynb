{
 "cells": [
  {
   "cell_type": "markdown",
   "metadata": {
    "deletable": false,
    "editable": false,
    "nbgrader": {
     "checksum": "b8cf5f00bbb57fe995eb23a30e20ca30",
     "grade": false,
     "grade_id": "cell-025ad1c0a059d705",
     "locked": true,
     "schema_version": 1,
     "solution": false
    }
   },
   "source": [
    "## Mini-Project # 3\n",
    "\n",
    "Is it more or less likely to be injured in a bike-related accident if you are on a bike path or not? How would the results differ for injuries of different severity, by zip codes, and by the type of other party in the accident? In which parts of the city is it more likely to get into an alcohol-related accident? How can you explain that using additional statistics by zip codes, for example, by the number of alcohol-serving bars in the zip code? \n",
    "\n",
    "Let's answer these questions using Arcgis API for Python. This is your third mini-project.\n",
    "\n",
    "Recall the very first demo in the first lecture: we searched available content for \"bike san diego\", and found several layers or services, including collisions and bike routes. The collisions file showed bike and pedestrian TIMS-geocoded collisions in SD County (TIMS == Transpotation Injury Mapping System.) You can view the system description, including definitions of fields, at https://tims.berkeley.edu/help/SWITRS.php (SWITRS == Statewide Integrated Traffic Records System from CA Highway Patrol). There is a field indicating accidents that involved bicyclists. \n",
    "\n",
    "To answer the questions at the top of the cell, we'll need to integrate bike paths and accidents. But notice that the data we found through ArcGIS search during the first lecture, were for different times. So our first task is to grab more recent data and add it to the notebook you create. \n",
    "\n",
    "Your tasks, therefore, include:\n",
    "1. Create an account at https://tims.berkeley.edu/, and sign in.\n",
    "1. At SWITRS Query and Map, make a request for data from 1/1/2014 to 12/31/2018, for one or more cities in San Diego county (or just San Diego city.)  Specify that you are interested in bicycle collisions, and run the query.\n",
    "1. Make sure that you get back 1000 or more records (e.g. if you select just San Diego city, you'd get 2289 total bicycle collisions). \n",
    "1. Download the collision data as a csv file, and explore it. Also, download party and victims data, because some attributes you'd need are in these files.\n",
    "1. Explore the data you downloaded, and understand the fields you need to work with. See SWITRS FAQ page at https://tims.berkeley.edu/help/Query_and_Map.php#FAQs and the codebook at https://tims.berkeley.edu/help/SWITRS.php#Codebook. SWITRS is relatively well documented.\n",
    "1. Find the field that is common for the 3 tables (this is what you can use to join them). Note, also, that there are similarly-named fields in the three tables, but they apply to different types. For example, \"party sobriety\" is a field in the \"party\" table (here, you can tell who in the collision was under the influence), while there is also an \"alchohol involved\" field in the collision table.\n",
    "1. Read the collisions table into a Jupyter notebook, and create point map for it. Join other tables (possibly using group by) to this table. Also, save the table as a feature service into ArcGIS Online. \n",
    "1. Identify those collisions that happened along a bike path, and those that happened elsewhere. This may be tricky. Think about geometric meaning of \"being on a bike path\". Also, think which ArcGIS techniques you could use to connect data from the Collisions and the Bike Routes layers.\n",
    "1. Summarize collisions by zip codes, and also add additional data to the zip codes table, using geoenrichment (you may want to look at variables in categories such as businesses, GroceryAlcoholicBeverages, LeisureActivitiesLifestyle, food). You may also use the businesses data you worked with in MP2. To find a zip codes feature layer or shapefile, search extarnal content on ArcGIS Online.\n",
    "1. Do analysis of the collisions and zip codes layers, answering the questions at the top of this cell. Use a data analysis technique (eg regression) you learned in an earlier course. For example, you may use sklearn to build a model explaining severity of injuries as dependent on impairment, type of collision, and location. \n",
    "\n",
    "What you need to produce:\n",
    "1. Map (or maps) of bicycle-related accidents and bike paths, where accidents are shown with different colors or symbols depending on whether a)alcohol was involved, b) the bicyclist was at fault because of impairment, and c) type of the other party in the accident.\n",
    "2. Map by zip codes showing the alcohol-related bicycle accidents and one other variable by zip codes that may explain it (based on your findings)\n",
    "3. Documented Jupyter Notebook with step-by-step analysis \n",
    "4. A brief description of findings (300 words or more)\n",
    "5. URLs of resources you created on ArcGIS Online \n",
    "\n",
    "4. For extra credit: a) find additional interesting information by joining the victims table, b) how would you present these findings to a local planning commission that considers where to create bike paths avoiding areas that are prone to serious collisions? \n",
    "\n",
    "\n",
    "### Useful web sites about the problem:\n",
    "\n",
    "* https://www.afr.com/lifestyle/cars-bikes-and-boats/cycling/where-most-car-and-bicycle-collisions-take-place-and-how-to-avoid-them-20161018-gs4ikm\n",
    "* https://www.quora.com/How-do-most-vehicle-bicycle-collisions-occur\n",
    "* https://www.ncbi.nlm.nih.gov/pmc/articles/PMC3503407/\n",
    "* https://cityroom.blogs.nytimes.com/2009/04/09/study-links-alcohol-and-bike-deaths/\n"
   ]
  },
  {
   "cell_type": "code",
   "execution_count": null,
   "metadata": {
    "deletable": false,
    "editable": false,
    "nbgrader": {
     "checksum": "792f15988f24d10eb0a1e3bf737473b1",
     "grade": false,
     "grade_id": "cell-c9302920f2c1b529",
     "locked": true,
     "schema_version": 1,
     "solution": false
    }
   },
   "outputs": [],
   "source": [
    "# 1. Load the data (using concent manager, and also adding downloaded datasets), retain only fields we need\n",
    "# You code goes here\n"
   ]
  },
  {
   "cell_type": "code",
   "execution_count": 1,
   "metadata": {
    "deletable": false,
    "nbgrader": {
     "checksum": "c19f45d2e62fa7a4913d7a1dd9a4e6d2",
     "grade": true,
     "grade_id": "cell-b160cd595686c227",
     "locked": false,
     "points": 5,
     "schema_version": 1,
     "solution": true
    }
   },
   "outputs": [],
   "source": [
    "# YOUR CODE HERE\n",
    "# import related packages\n",
    "import pandas as pd\n",
    "collisions = pd.read_csv(\"Collisions.csv\")\n",
    "parties = pd.read_csv(\"Parties.csv\")\n",
    "victims = pd.read_csv(\"Victims.csv\")"
   ]
  },
  {
   "cell_type": "code",
   "execution_count": null,
   "metadata": {
    "deletable": false,
    "editable": false,
    "nbgrader": {
     "checksum": "e13edd388ad80f0bb22ba89d4fabfd2b",
     "grade": false,
     "grade_id": "cell-11c87a47a0c605a5",
     "locked": true,
     "schema_version": 1,
     "solution": false
    }
   },
   "outputs": [],
   "source": [
    "# 2. Joining party (and  victims, if going for extra credit) to collisions. \n",
    "# You code goes here\n"
   ]
  },
  {
   "cell_type": "code",
   "execution_count": 2,
   "metadata": {
    "deletable": false,
    "nbgrader": {
     "checksum": "1252feb03934ae785de8b8001bc44ce2",
     "grade": true,
     "grade_id": "cell-06a8a817644d0116",
     "locked": false,
     "points": 5,
     "schema_version": 1,
     "solution": true
    }
   },
   "outputs": [],
   "source": [
    "# YOUR CODE HERE\n",
    "# merged the tables, we will merged the victims tables when doing ec\n",
    "merged = collisions.merge(parties, on=\"CASE_ID\")"
   ]
  },
  {
   "cell_type": "code",
   "execution_count": null,
   "metadata": {
    "deletable": false,
    "editable": false,
    "nbgrader": {
     "checksum": "3ca31123d0f93e4bbf3f00992a34702e",
     "grade": false,
     "grade_id": "cell-d05c7942ed405fa8",
     "locked": true,
     "schema_version": 1,
     "solution": false
    }
   },
   "outputs": [],
   "source": [
    "# 3. Clean spatial data as needed and create a point layer of collisions\n",
    "# You code goes here\n"
   ]
  },
  {
   "cell_type": "code",
   "execution_count": 3,
   "metadata": {},
   "outputs": [],
   "source": [
    "# collect all the spatial information of the data point\n",
    "merged.LONGITUDE = merged.apply(lambda x: x.POINT_X if pd.isnull(x[\"LONGITUDE\"]) else x[\"LONGITUDE\"], axis=1)\n",
    "merged.LATITUDE = merged.apply(lambda x: x.POINT_Y if pd.isnull(x[\"LATITUDE\"]) else x[\"LATITUDE\"], axis=1)"
   ]
  },
  {
   "cell_type": "code",
   "execution_count": 4,
   "metadata": {},
   "outputs": [
    {
     "name": "stdout",
     "output_type": "stream",
     "text": [
      "Enter password: ········\n"
     ]
    }
   ],
   "source": [
    "import arcgis\n",
    "from arcgis.gis import GIS\n",
    "import numpy as np\n",
    "%matplotlib inline \n",
    "\n",
    "# create spatial data frame\n",
    "merged_new = pd.DataFrame.spatial.from_xy(merged, x_column = 'LONGITUDE', y_column='LATITUDE')\n",
    "merged_new = merged_new.replace(np.nan, '', regex=True)\n",
    "gis = GIS(username='shy166_UCSDOnline')"
   ]
  },
  {
   "cell_type": "code",
   "execution_count": 5,
   "metadata": {},
   "outputs": [],
   "source": [
    "# further clean the data, for the use of mapping latter\n",
    "merged_new[\"ALCOHOL_INVOLVED\"] = merged_new[\"ALCOHOL_INVOLVED\"].apply(lambda x: 1 if x==\"Y\" else 0)\n",
    "merged_new[\"PARTY_TYPE\"] = merged_new[\"PARTY_TYPE\"].apply(lambda x: \"0\" if x==\"-\" else x)\n",
    "merged_new[\"PARTY_TYPE\"] = pd.to_numeric(merged_new[\"PARTY_TYPE\"])"
   ]
  },
  {
   "cell_type": "code",
   "execution_count": 6,
   "metadata": {},
   "outputs": [],
   "source": [
    "# classify the other party\n",
    "# the logic of the other party is, when there is only one person, we use this person as the other party\n",
    "# if there are two or more pepople involved, we choose the people with party type that are not bicyclist\n",
    "import copy\n",
    "parties = merged_new.groupby('CASE_ID').apply(lambda x: x.PARTY_TYPE.tolist())\n",
    "\n",
    "def filter_party(lst):\n",
    "    co = copy.deepcopy(lst)\n",
    "    if len(lst) >= 2:\n",
    "        return 9\n",
    "    else:\n",
    "        return co[0]\n",
    "\n",
    "other_df= parties.apply(filter_party).to_frame().reset_index().rename({0:'OTHER_PARTY'}, axis = 1)\n",
    "merged_new = merged_new.merge(other_df, on = 'CASE_ID', how = 'left')\n",
    "\n",
    "def filter_party2(x):\n",
    "    if x.OTHER_PARTY!=9:\n",
    "        return x.OTHER_PARTY\n",
    "    else:\n",
    "        if x.PARTY_TYPE==4:\n",
    "            return x.OTHER_PARTY\n",
    "        else:\n",
    "            return x.PARTY_TYPE\n",
    "\n",
    "# put other party information into the merged data\n",
    "other = merged_new.apply(filter_party2, axis=1)\n",
    "merged_new.OTHER_PARTY = other\n"
   ]
  },
  {
   "cell_type": "code",
   "execution_count": 7,
   "metadata": {},
   "outputs": [
    {
     "data": {
      "text/plain": [
       "{'results': [{'itemId': '5e6747f305514e50ad832168e0431ce7',\n",
       "   'notSharedWith': [],\n",
       "   'success': True}]}"
      ]
     },
     "execution_count": 7,
     "metadata": {},
     "output_type": "execute_result"
    }
   ],
   "source": [
    "# create the point layer of collisions\n",
    "fl = merged_new.spatial.to_featurelayer(title ='collisions_by', gis=gis, tags=\"DSC170\")\n",
    "fl.share(org=True)"
   ]
  },
  {
   "cell_type": "code",
   "execution_count": 8,
   "metadata": {},
   "outputs": [
    {
     "data": {
      "application/vnd.jupyter.widget-view+json": {
       "model_id": "0536781896b749f8ae139ae3eb4fa2be",
       "version_major": 2,
       "version_minor": 0
      },
      "text/plain": [
       "MapView(layout=Layout(height='400px', width='100%'), zoom=9.0)"
      ]
     },
     "metadata": {},
     "output_type": "display_data"
    },
    {
     "data": {
      "text/html": [
       "<div class=\"map-static-img-preview-49be5e58-7652-4297-a498-2d099dd3348a\"><img src=\"\"></img></div>"
      ],
      "text/plain": [
       "<IPython.core.display.HTML object>"
      ]
     },
     "metadata": {},
     "output_type": "display_data"
    }
   ],
   "source": [
    "# create a SD map\n",
    "m1 = gis.map('San Diego')\n",
    "m1.zoom = 9\n",
    "m1"
   ]
  },
  {
   "cell_type": "code",
   "execution_count": null,
   "metadata": {
    "deletable": false,
    "nbgrader": {
     "checksum": "935322671570362229173a90b5b2adbf",
     "grade": true,
     "grade_id": "cell-0531a1a9297e9e64",
     "locked": false,
     "points": 5,
     "schema_version": 1,
     "solution": true
    }
   },
   "outputs": [],
   "source": [
    "# YOUR CODE HERE\n",
    "# add the point layer to the map\n",
    "m1.add_layer(fl)"
   ]
  },
  {
   "cell_type": "code",
   "execution_count": null,
   "metadata": {
    "deletable": false,
    "editable": false,
    "nbgrader": {
     "checksum": "0c1ec0c8c654e2325f7ebd6bbed4d62d",
     "grade": false,
     "grade_id": "cell-627d225b8e416c04",
     "locked": true,
     "schema_version": 1,
     "solution": false
    }
   },
   "outputs": [],
   "source": [
    "# 4. Define what you mean to be on a bike route, \n",
    "# and figure out, for each collision, whether it happened on a bike route or not. \n",
    "# Summarize collisions of different types by zip codes.\n",
    "# You code goes here\n"
   ]
  },
  {
   "cell_type": "code",
   "execution_count": 10,
   "metadata": {
    "deletable": false,
    "nbgrader": {
     "checksum": "3f39cdef40ba02c725ea6a4e2dee248d",
     "grade": true,
     "grade_id": "cell-5f85a4693e6d0a23",
     "locked": false,
     "points": 10,
     "schema_version": 1,
     "solution": true
    }
   },
   "outputs": [],
   "source": [
    "# YOUR CODE HERE\n",
    "# we get sd bike route from online and add to the map\n",
    "bike_route = gis.content.get(\"086106add0a645ba864db08f45c795ea\")\n",
    "m1.add_layer(bike_route)"
   ]
  },
  {
   "cell_type": "code",
   "execution_count": 11,
   "metadata": {},
   "outputs": [],
   "source": [
    "# we define collision on the bike rout as within 8 feet of the bike route path\n",
    "# since the mimum bike path in sd is 5 feet.\n",
    "\n",
    "# find all collisions points within 8 feet of bike path\n",
    "from arcgis.features.find_locations import find_existing_locations\n",
    "points_bike_route = find_existing_locations(input_layers=[{'url': fl.layers[0].url},{'url': bike_route.layers[0].url}],\n",
    "                                         expressions=[{\"operator\":\"\",\"layer\":0,\"selectingLayer\":1,\n",
    "                                                       \"spatialRel\":\"withinDistance\",\"distance\":8,\"units\":\"Feet\"}],\n",
    "                       output_name = 'points_bike_route')\n",
    "points_bike_route_df = pd.DataFrame.spatial.from_layer(points_bike_route.layers[0])"
   ]
  },
  {
   "cell_type": "code",
   "execution_count": 12,
   "metadata": {},
   "outputs": [],
   "source": [
    "# put whther the points are on route info into the dataframe\n",
    "points_id = points_bike_route_df.CASE_ID\n",
    "merged_new[\"ON_ROUTE\"] = merged_new.CASE_ID.isin(points_id)"
   ]
  },
  {
   "cell_type": "code",
   "execution_count": 13,
   "metadata": {},
   "outputs": [],
   "source": [
    "# we found the zip code information of sd from arcgis and convert to df\n",
    "zipcode = gis.content.get(\"81cf0db99f754a0ebc6f5ddaefd7bcad\")\n",
    "zip_df = pd.DataFrame.spatial.from_layer(zipcode.layers[0])\n",
    "zip_df_st = zip_df[[\"ZIP\", \"SHAPE\"]]"
   ]
  },
  {
   "cell_type": "code",
   "execution_count": 14,
   "metadata": {},
   "outputs": [],
   "source": [
    "# create the feature layers with no duplicated case id and then create df from it\n",
    "fl_no = merged_new.drop_duplicates(subset=[\"CASE_ID\"]).spatial.to_featurelayer(title ='collisions_no_by', gis=gis, tags=\"DSC170\")\n",
    "fl_no_df = pd.DataFrame.spatial.from_layer(fl_no.layers[0])\n",
    "\n",
    "# we then join the collision with no duplicated case id with the zip code\n",
    "point_zip = zip_df.spatial.join(fl_no_df)"
   ]
  },
  {
   "cell_type": "code",
   "execution_count": 15,
   "metadata": {},
   "outputs": [],
   "source": [
    "# adding additional bussiness information to each zipcode\n",
    "business = pd.read_csv('sd_businesses_active_since08_datasd.csv')\n",
    "business['zip'] = business['zip'].str[:5]\n",
    "business_naics = business.groupby('zip')\\\n",
    ".naics_description.apply(lambda x: x.value_counts().idxmax())\n",
    "zip_busi_dict = business_naics[business_naics.index.isin(zip_df.ZIP.unique().astype(str))]\n",
    "\n",
    "# find the more frequent bussiness in the zip code\n",
    "zip_busi_dict = zip_busi_dict.to_frame()\n",
    "zip_busi_dict['ZIP'] = zip_busi_dict.index\n",
    "point_zip['ZIP'] = point_zip.ZIP.astype(str)\n",
    "point_zip = point_zip.merge(zip_busi_dict)"
   ]
  },
  {
   "cell_type": "code",
   "execution_count": 16,
   "metadata": {},
   "outputs": [
    {
     "data": {
      "text/plain": [
       "92109    238\n",
       "92101    223\n",
       "92105    126\n",
       "92104    107\n",
       "92037     93\n",
       "92110     92\n",
       "92115     80\n",
       "92102     71\n",
       "92103     69\n",
       "92107     68\n",
       "92126     64\n",
       "92154     62\n",
       "92111     61\n",
       "92117     55\n",
       "92113     52\n",
       "92123     46\n",
       "92116     44\n",
       "92121     41\n",
       "92130     40\n",
       "92108     38\n",
       "92106     35\n",
       "92122     29\n",
       "92114     28\n",
       "92129     25\n",
       "92128     18\n",
       "92120     18\n",
       "92127     14\n",
       "92014     13\n",
       "92124     12\n",
       "92093     11\n",
       "92131     10\n",
       "92119     10\n",
       "92139      8\n",
       "92173      8\n",
       "92145      6\n",
       "92136      5\n",
       "92020      1\n",
       "91911      1\n",
       "92067      1\n",
       "91942      1\n",
       "92118      1\n",
       "Name: ZIP, dtype: int64"
      ]
     },
     "execution_count": 16,
     "metadata": {},
     "output_type": "execute_result"
    }
   ],
   "source": [
    "# summerize the zip code by how many collision in each zip code zone\n",
    "point_zip = point_zip[['ZIP','CASE_ID']]\n",
    "point_zip[\"ZIP\"].value_counts()"
   ]
  },
  {
   "cell_type": "code",
   "execution_count": null,
   "metadata": {
    "deletable": false,
    "editable": false,
    "nbgrader": {
     "checksum": "ed7785c06542392a727b0c38ac35237e",
     "grade": false,
     "grade_id": "cell-4d4834da23fc79cb",
     "locked": true,
     "schema_version": 1,
     "solution": false
    }
   },
   "outputs": [],
   "source": [
    "# 5. Generate maps\n",
    "# You code goes here\n"
   ]
  },
  {
   "cell_type": "code",
   "execution_count": 17,
   "metadata": {
    "deletable": false,
    "nbgrader": {
     "checksum": "8f5202462b707abf1c54939e9802077b",
     "grade": true,
     "grade_id": "cell-9f85e966afab18c4",
     "locked": false,
     "points": 10,
     "schema_version": 1,
     "solution": true
    },
    "scrolled": true
   },
   "outputs": [
    {
     "data": {
      "application/vnd.jupyter.widget-view+json": {
       "model_id": "ab3834508ef74fce982512b19efaa762",
       "version_major": 2,
       "version_minor": 0
      },
      "text/plain": [
       "MapView(layout=Layout(height='400px', width='100%'), zoom=9.0)"
      ]
     },
     "metadata": {},
     "output_type": "display_data"
    },
    {
     "data": {
      "text/html": [
       "<div class=\"map-static-img-preview-ce8a532d-cb56-4856-9485-cfbfc8dcd67f\"><img src=\"\"></img></div>"
      ],
      "text/plain": [
       "<IPython.core.display.HTML object>"
      ]
     },
     "metadata": {},
     "output_type": "display_data"
    }
   ],
   "source": [
    "# YOUR CODE HERE\n",
    "# Map for collions points depending on whether alchol was involved\n",
    "# GREEN N represents no alchol was involved, RED Y represenes yes\n",
    "m1a = gis.map('San Diego')\n",
    "m1a.zoom = 9\n",
    "m1a"
   ]
  },
  {
   "cell_type": "code",
   "execution_count": 18,
   "metadata": {},
   "outputs": [],
   "source": [
    "m1a.add_layer(bike_route, {\"opacity\":0.5})\n",
    "m1a_renderer = {\"renderer\": \"autocast\", \"type\": \"uniqueValue\", \"field1\":\"ALCOHOL_IN\"}\n",
    "\n",
    "m1a_renderer[\"uniqueValueInfos\"] = [{  \"value\": \"1\",\n",
    "                                        \"symbol\" : {\"angle\":0,\"xoffset\":0,\"yoffset\":8.15625,\"type\":\"esriPMS\",\"url\":\"http://static.arcgis.com/images/Symbols/AtoZ/redY.png\",\"contentType\":\"image/png\",\"width\":15.75,\"height\":21.75},\n",
    "                                        \"label\": \"Y\"\n",
    "                                    },\n",
    "                                    {   \"value\": \"0\",\n",
    "                                        \"symbol\" : {\"angle\":0,\"xoffset\":0,\"yoffset\":8.15625,\"type\":\"esriPMS\",\"url\":\"http://static.arcgis.com/images/Symbols/AtoZ/greenN.png\",\"contentType\":\"image/png\",\"width\":15.75,\"height\":21.75},\n",
    "                                        \"label\": \"Blank\"\n",
    "                                    }]\n",
    "m1a.add_layer(fl,\n",
    "               { \"type\": \"FeatureLayer\",\n",
    "                 \"renderer\": m1a_renderer,\n",
    "                 \"field_name\":\"ALCOHOL_IN\"})"
   ]
  },
  {
   "cell_type": "code",
   "execution_count": 19,
   "metadata": {},
   "outputs": [
    {
     "name": "stderr",
     "output_type": "stream",
     "text": [
      "/opt/conda/lib/python3.6/site-packages/ipykernel_launcher.py:3: SettingWithCopyWarning: \n",
      "A value is trying to be set on a copy of a slice from a DataFrame.\n",
      "Try using .loc[row_indexer,col_indexer] = value instead\n",
      "\n",
      "See the caveats in the documentation: http://pandas.pydata.org/pandas-docs/stable/indexing.html#indexing-view-versus-copy\n",
      "  This is separate from the ipykernel package so we can avoid doing imports until\n"
     ]
    },
    {
     "data": {
      "text/plain": [
       "{'results': [{'itemId': '9a05ce353b3b4b6bb3419870501a5a7f',\n",
       "   'notSharedWith': [],\n",
       "   'success': True}]}"
      ]
     },
     "execution_count": 19,
     "metadata": {},
     "output_type": "execute_result"
    }
   ],
   "source": [
    "# we need to find the bicyclist was at fault because of impariment\n",
    "merged1b = merged_new[merged_new[\"AT_FAULT\"]==\"Y\"]\n",
    "merged1b[\"IMPAIR\"] = merged1b.apply(lambda x: 1 if x.PARTY_DRUG_PHYSICAL == \"F\" else 0, axis=1)\n",
    "fl1b = merged1b.spatial.to_featurelayer(title ='collisions_by_1b', gis=gis, tags=\"DSC170\")\n",
    "fl1b.share(org=True)"
   ]
  },
  {
   "cell_type": "code",
   "execution_count": 20,
   "metadata": {},
   "outputs": [
    {
     "data": {
      "text/plain": [
       "array([0])"
      ]
     },
     "execution_count": 20,
     "metadata": {},
     "output_type": "execute_result"
    }
   ],
   "source": [
    "# since there is no bicyclist was at fault because of impariment there will be only one symbol on the map\n",
    "merged1b.IMPAIR.unique()"
   ]
  },
  {
   "cell_type": "code",
   "execution_count": 21,
   "metadata": {},
   "outputs": [
    {
     "data": {
      "application/vnd.jupyter.widget-view+json": {
       "model_id": "b2e846e26d964a28b5a0eaf73c3b1fcd",
       "version_major": 2,
       "version_minor": 0
      },
      "text/plain": [
       "MapView(layout=Layout(height='400px', width='100%'), zoom=9.0)"
      ]
     },
     "metadata": {},
     "output_type": "display_data"
    },
    {
     "data": {
      "text/html": [
       "<div class=\"map-static-img-preview-19792ff0-dd36-469c-a97d-b4276fce81fd\"><img src=\"\"></img></div>"
      ],
      "text/plain": [
       "<IPython.core.display.HTML object>"
      ]
     },
     "metadata": {},
     "output_type": "display_data"
    }
   ],
   "source": [
    "# Map for collions points depending on whether the bicyclist was at fault because of impariment\n",
    "# we found none of such case, thus all the bicyclist was at fault are not because of impariment\n",
    "m1b = gis.map('San Diego')\n",
    "m1b.zoom = 9\n",
    "m1b"
   ]
  },
  {
   "cell_type": "code",
   "execution_count": 22,
   "metadata": {},
   "outputs": [],
   "source": [
    "m1b.add_layer(bike_route, {\"opacity\":0.5})\n",
    "\n",
    "m1b_renderer = {\"renderer\": \"autocast\", \"type\": \"uniqueValue\", \"field1\":\"IMPAIR\"}\n",
    "\n",
    "m1b_renderer[\"uniqueValueInfos\"] = [\n",
    "                                    {   \"value\": \"0\",\n",
    "                                        \"symbol\": {\"angle\":0,\"xoffset\":12,\"yoffset\":12,\"type\":\"esriPMS\",\"url\":\"http://static.arcgis.com/images/Symbols/Basic/GreenFlag.png\",\"contentType\":\"image/png\",\"width\":24,\"height\":24},\n",
    "                                        \"label\": \"NOT BECAUSE OF IMPAIRMENT\"\n",
    "                                    }]\n",
    "m1b.add_layer(fl1b,\n",
    "               { \"type\": \"FeatureLayer\",\n",
    "                 \"renderer\": m1b_renderer,\n",
    "                 \"field_name\":\"IMPAIR\"})"
   ]
  },
  {
   "cell_type": "code",
   "execution_count": 23,
   "metadata": {},
   "outputs": [
    {
     "data": {
      "text/plain": [
       "{'results': [{'itemId': '75d4533ea58b4d649f53b5883928cd59',\n",
       "   'notSharedWith': [],\n",
       "   'success': True}]}"
      ]
     },
     "execution_count": 23,
     "metadata": {},
     "output_type": "execute_result"
    }
   ],
   "source": [
    "# select all other party\n",
    "merged1c = merged_new[merged_new[\"OTHER_PARTY\"]!=9]\n",
    "fl1c = merged1c.spatial.to_featurelayer(title ='collisions_by_1c', gis=gis, tags=\"DSC170\")\n",
    "fl1c.share(org=True)"
   ]
  },
  {
   "cell_type": "code",
   "execution_count": 24,
   "metadata": {
    "scrolled": true
   },
   "outputs": [
    {
     "data": {
      "application/vnd.jupyter.widget-view+json": {
       "model_id": "ddd76e80408943658713d02789d96972",
       "version_major": 2,
       "version_minor": 0
      },
      "text/plain": [
       "MapView(layout=Layout(height='400px', width='100%'), zoom=9.0)"
      ]
     },
     "metadata": {},
     "output_type": "display_data"
    },
    {
     "data": {
      "text/html": [
       "<div class=\"map-static-img-preview-472cd297-33b2-4d3f-b112-6377e84dbd6c\"><img src=\"\"></img></div>"
      ],
      "text/plain": [
       "<IPython.core.display.HTML object>"
      ]
     },
     "metadata": {},
     "output_type": "display_data"
    }
   ],
   "source": [
    "# Map for collions points depending on the type of the other party in the accident\n",
    "m1c = gis.map('San Diego')\n",
    "m1c.zoom = 9\n",
    "m1c"
   ]
  },
  {
   "cell_type": "code",
   "execution_count": 25,
   "metadata": {},
   "outputs": [],
   "source": [
    "m1c.add_layer(bike_route, {\"opacity\":0.5})\n",
    "\n",
    "m1c_renderer = {\"renderer\": \"autocast\", \"type\": \"uniqueValue\", \"field1\":\"OTHER_PART\"}\n",
    "\n",
    "m1c_renderer[\"uniqueValueInfos\"] = [{  \"value\": \"1\",\n",
    "                                        \"symbol\": {\"angle\":0,\"xoffset\":0,\"yoffset\":0,\"type\":\"esriPMS\",\"url\":\"http://static.arcgis.com/images/Symbols/Transportation/CarRedFront.png\",\"contentType\":\"image/png\",\"width\":24,\"height\":24},\n",
    "                                        \"label\": \"Driver (including Hit and Run)\"\n",
    "                                    },\n",
    "                                    {   \"value\": \"2\",\n",
    "                                        \"symbol\": {\"angle\":0,\"xoffset\":0,\"yoffset\":0,\"type\":\"esriPMS\",\"url\":\"https://static.arcgis.com/images/Symbols/NPS/Walking_1.png\",\"contentType\":\"image/png\",\"width\":24,\"height\":24},\n",
    "                                        \"label\": \"Pedestrian\"\n",
    "                                    },\n",
    "                                    {   \"value\": \"0\",\n",
    "                                        \"symbol\": {\"angle\":0,\"xoffset\":0,\"yoffset\":0,\"type\":\"esriPMS\",\"url\":\"http://static.arcgis.com/images/Symbols/Basic/CircleX.png\",\"contentType\":\"image/png\",\"width\":24,\"height\":24},\n",
    "                                        \"label\": \"Not Stated\"\n",
    "                                    },\n",
    "                                    {   \"value\": \"3\",\n",
    "                                        \"symbol\": {\"angle\":0,\"xoffset\":0,\"yoffset\":0,\"type\":\"esriPMS\",\"url\":\"http://static.arcgis.com/images/Symbols/Transportation/CarRental.png\",\"contentType\":\"image/png\",\"width\":24,\"height\":24},\n",
    "                                        \"label\": \"Parked Vehicle\"\n",
    "                                    },\n",
    "                                    {   \"value\": \"4\",\n",
    "                                        \"symbol\": {\"angle\":0,\"xoffset\":0,\"yoffset\":0,\"type\":\"esriPMS\",\"url\":\"http://static.arcgis.com/images/Symbols/Transportation/esriDefaultMarker_189.png\",\"contentType\":\"image/png\",\"width\":24,\"height\":24},\n",
    "                                        \"label\": \"Bicyclist\"\n",
    "                                    },\n",
    "                                    {   \"value\": \"5\",\n",
    "                                        \"symbol\": {\"angle\":0,\"xoffset\":0,\"yoffset\":0,\"type\":\"esriPMS\",\"url\":\"http://static.arcgis.com/images/Symbols/Transportation/Landingpad.png\",\"contentType\":\"image/png\",\"width\":24,\"height\":24},\n",
    "                                        \"label\": \"Other\"\n",
    "                                    }]\n",
    "m1c.add_layer(fl1c,\n",
    "               { \"type\": \"FeatureLayer\",\n",
    "                 \"renderer\": m1c_renderer,\n",
    "                 \"field_name\":\"OTHER_PART\"})\n"
   ]
  },
  {
   "cell_type": "code",
   "execution_count": 26,
   "metadata": {},
   "outputs": [
    {
     "data": {
      "text/plain": [
       "{'results': [{'itemId': 'c82eb1daba8a4732a33ae01e6c8d8fc4',\n",
       "   'notSharedWith': [],\n",
       "   'success': True}]}"
      ]
     },
     "execution_count": 26,
     "metadata": {},
     "output_type": "execute_result"
    }
   ],
   "source": [
    "# find alchohol related bicycle accidents\n",
    "alcohol = merged_new.copy()[merged_new['ALCOHOL_INVOLVED'] == 1]\n",
    "alcohol_fl = alcohol.spatial.to_featurelayer(title = 'collisions_by_2a_alcohol', gis = gis, tags=\"DSC170\")\n",
    "alcohol_fl.share(org=True)"
   ]
  },
  {
   "cell_type": "code",
   "execution_count": 27,
   "metadata": {},
   "outputs": [
    {
     "data": {
      "application/vnd.jupyter.widget-view+json": {
       "model_id": "fde6077dc80c485197fcdf00d6ac1366",
       "version_major": 2,
       "version_minor": 0
      },
      "text/plain": [
       "MapView(layout=Layout(height='400px', width='100%'), zoom=9.0)"
      ]
     },
     "metadata": {},
     "output_type": "display_data"
    },
    {
     "data": {
      "text/html": [
       "<div class=\"map-static-img-preview-97bdeefe-9b76-40c2-a4e4-0f243f3aee19\"><img src=\"\"></img></div>"
      ],
      "text/plain": [
       "<IPython.core.display.HTML object>"
      ]
     },
     "metadata": {},
     "output_type": "display_data"
    }
   ],
   "source": [
    "# map of alchohol related bicycle accidents in each zip code\n",
    "m2a = gis.map('San Diego')\n",
    "m2a.zoom = 9\n",
    "m2a"
   ]
  },
  {
   "cell_type": "code",
   "execution_count": 28,
   "metadata": {},
   "outputs": [],
   "source": [
    "m2a.add_layer(zipcode)\n",
    "m2a.add_layer(alcohol_fl)"
   ]
  },
  {
   "cell_type": "code",
   "execution_count": 29,
   "metadata": {},
   "outputs": [
    {
     "data": {
      "text/plain": [
       "{'results': [{'itemId': 'f6b1f93c0fb44ff689a7761fa85c40f8',\n",
       "   'notSharedWith': [],\n",
       "   'success': True}]}"
      ]
     },
     "execution_count": 29,
     "metadata": {},
     "output_type": "execute_result"
    }
   ],
   "source": [
    "# according to our findings in the below, on_route is the best feature that coulde explain the collisions,\n",
    "# that's why we choose to plot the on_route related collisions, which turns out to be highly similar to the \n",
    "# alcohol related collisions\n",
    "copy = merged_new.copy()[merged_new[\"ON_ROUTE\"]==True]\n",
    "on_fl = copy.spatial.to_featurelayer(title = 'collisions_by_2b_on_route', gis = gis, tags=\"DSC170\")\n",
    "on_fl.share(org=True)"
   ]
  },
  {
   "cell_type": "code",
   "execution_count": 32,
   "metadata": {},
   "outputs": [
    {
     "data": {
      "application/vnd.jupyter.widget-view+json": {
       "model_id": "27097f9eea464f4980e1f7639b19d23a",
       "version_major": 2,
       "version_minor": 0
      },
      "text/plain": [
       "MapView(layout=Layout(height='400px', width='100%'), zoom=9.0)"
      ]
     },
     "metadata": {},
     "output_type": "display_data"
    },
    {
     "data": {
      "text/html": [
       "<div class=\"map-static-img-preview-c4b7841d-92ed-4453-b609-9ecdb69b6c79\"><img src=\"\"></img></div>"
      ],
      "text/plain": [
       "<IPython.core.display.HTML object>"
      ]
     },
     "metadata": {},
     "output_type": "display_data"
    }
   ],
   "source": [
    "# map of on_route bicycle accidents in each zip code\n",
    "m2b = gis.map('San Diego')\n",
    "m2b.zoom = 9\n",
    "m2b"
   ]
  },
  {
   "cell_type": "code",
   "execution_count": 33,
   "metadata": {},
   "outputs": [],
   "source": [
    "m2b.add_layer(zipcode)\n",
    "m2b.add_layer(on_fl)"
   ]
  },
  {
   "cell_type": "code",
   "execution_count": null,
   "metadata": {
    "deletable": false,
    "editable": false,
    "nbgrader": {
     "checksum": "52fd0b73d36055786d89051fbd240761",
     "grade": false,
     "grade_id": "cell-93b531e243f5b861",
     "locked": true,
     "schema_version": 1,
     "solution": false
    }
   },
   "outputs": [],
   "source": [
    "# 6. Analyze the data and write responses to the above questions\n",
    "# You code goes here\n"
   ]
  },
  {
   "cell_type": "code",
   "execution_count": 34,
   "metadata": {
    "deletable": false,
    "nbgrader": {
     "checksum": "44ae55a75f5de20170f9b6909ddb8245",
     "grade": true,
     "grade_id": "cell-1eddfee53360f3fb",
     "locked": false,
     "points": 10,
     "schema_version": 1,
     "solution": true
    }
   },
   "outputs": [],
   "source": [
    "# YOUR CODE HERE\n",
    "# import related package to do classification analysis\n",
    "from sklearn.ensemble import RandomForestClassifier\n",
    "from sklearn.model_selection import train_test_split\n",
    "from sklearn.pipeline import Pipeline\n",
    "from sklearn.preprocessing import OneHotEncoder\n",
    "from sklearn.model_selection import train_test_split"
   ]
  },
  {
   "cell_type": "code",
   "execution_count": 35,
   "metadata": {},
   "outputs": [],
   "source": [
    "# merged the df with the zip code\n",
    "final_merged = merged_new.merge(point_zip, on = 'CASE_ID')"
   ]
  },
  {
   "cell_type": "code",
   "execution_count": 36,
   "metadata": {},
   "outputs": [],
   "source": [
    "# split our data and choose only the related features\n",
    "X = final_merged[['ON_ROUTE', 'ZIP','PARTY_TYPE', 'ALCOHOL_INVOLVED'\\\n",
    "                  , 'PARTY_SOBRIETY', 'LOCATION_TYPE', 'WEATHER_1']]\n",
    "y = final_merged['COLLISION_SEVERITY']\n",
    "X_train, X_test, y_train, y_test = train_test_split(X, y, test_size=0.25)"
   ]
  },
  {
   "cell_type": "code",
   "execution_count": 37,
   "metadata": {},
   "outputs": [
    {
     "name": "stderr",
     "output_type": "stream",
     "text": [
      "/opt/conda/lib/python3.6/site-packages/sklearn/ensemble/forest.py:246: FutureWarning: The default value of n_estimators will change from 10 in version 0.20 to 100 in 0.22.\n",
      "  \"10 in version 0.20 to 100 in 0.22.\", FutureWarning)\n"
     ]
    },
    {
     "data": {
      "text/plain": [
       "Pipeline(memory=None,\n",
       "     steps=[('onehot', OneHotEncoder(categorical_features=None, categories=None,\n",
       "       dtype=<class 'numpy.float64'>, handle_unknown='ignore',\n",
       "       n_values=None, sparse=True)), ('clf', RandomForestClassifier(bootstrap=True, class_weight=None, criterion='gini',\n",
       "            max_depth=None, max_features...obs=None,\n",
       "            oob_score=False, random_state=None, verbose=0,\n",
       "            warm_start=False))])"
      ]
     },
     "execution_count": 37,
     "metadata": {},
     "output_type": "execute_result"
    }
   ],
   "source": [
    "# we use random forest classifier to train and fit our models\n",
    "clf = RandomForestClassifier()\n",
    "pl = Pipeline(steps=[\n",
    "            ('onehot', OneHotEncoder(handle_unknown = 'ignore')),\n",
    "            ('clf', clf)\n",
    "        ])\n",
    "pl.fit(X_train, y_train)"
   ]
  },
  {
   "cell_type": "code",
   "execution_count": 38,
   "metadata": {},
   "outputs": [
    {
     "data": {
      "text/plain": [
       "0.7033179012345679"
      ]
     },
     "execution_count": 38,
     "metadata": {},
     "output_type": "execute_result"
    }
   ],
   "source": [
    "# training accuracy\n",
    "pl.score(X_train,y_train)"
   ]
  },
  {
   "cell_type": "code",
   "execution_count": 39,
   "metadata": {},
   "outputs": [
    {
     "data": {
      "text/plain": [
       "0.5526011560693641"
      ]
     },
     "execution_count": 39,
     "metadata": {},
     "output_type": "execute_result"
    }
   ],
   "source": [
    "# testing accuracy\n",
    "pl.score(X_test, y_test)"
   ]
  },
  {
   "cell_type": "code",
   "execution_count": 40,
   "metadata": {},
   "outputs": [
    {
     "name": "stdout",
     "output_type": "stream",
     "text": [
      "Feature ranking:\n",
      "1 feature: ON_ROUTE(0.046022001214715204)\n",
      "2 feature: PARTY_TYPE(0.04278925250801113)\n",
      "3 feature: PARTY_SOBRIETY(0.04222718698941337)\n",
      "4 feature: WEATHER_1(0.03504272138044415)\n",
      "5 feature: ZIP(0.02915044211414671)\n",
      "6 feature: ALCOHOL_INVOLVED(0.017301094839054072)\n",
      "7 feature: LOCATION_TYPE(0.015881878114267816)\n"
     ]
    }
   ],
   "source": [
    "# we want to find out the most significant feature in predicting collision severity\n",
    "forest = pl.steps[1][1]\n",
    "importances = forest.feature_importances_\n",
    "std = np.std([tree.feature_importances_ for tree in forest.estimators_],\n",
    "             axis=0)\n",
    "indices = np.argsort(importances)[::-1]\n",
    "\n",
    "# Print the feature ranking\n",
    "print(\"Feature ranking:\")\n",
    "\n",
    "apperance = []\n",
    "temp = []\n",
    "for f in range(len(indices)):\n",
    "    if X.columns[int(pl.steps[0][1].get_feature_names()[indices[f]][1])] in temp:\n",
    "        continue\n",
    "    else:\n",
    "        apperance += [(X.columns[int(pl.steps[0][1].get_feature_names()[indices[f]][1])],importances[indices[f]])]\n",
    "        temp += [X.columns[int(pl.steps[0][1].get_feature_names()[indices[f]][1])]]\n",
    "\n",
    "\n",
    "for f in range(X.shape[1]):\n",
    "    \n",
    "    print(\"{0} feature: {1}({2})\".format(f + 1, apperance[f][0],apperance[f][1] ))\n"
   ]
  },
  {
   "cell_type": "code",
   "execution_count": 41,
   "metadata": {},
   "outputs": [
    {
     "data": {
      "text/plain": [
       "0.3014903493769851"
      ]
     },
     "execution_count": 41,
     "metadata": {},
     "output_type": "execute_result"
    }
   ],
   "source": [
    "# for answering the questions\n",
    "merged_new.ON_ROUTE.mean()"
   ]
  },
  {
   "cell_type": "code",
   "execution_count": 42,
   "metadata": {
    "scrolled": true
   },
   "outputs": [
    {
     "data": {
      "text/plain": [
       "92109    0.123636\n",
       "92101    0.115844\n",
       "92105    0.065455\n",
       "92104    0.055584\n",
       "92037    0.048312\n",
       "Name: ZIP, dtype: float64"
      ]
     },
     "execution_count": 42,
     "metadata": {},
     "output_type": "execute_result"
    }
   ],
   "source": [
    "# for answering the questions\n",
    "\n",
    "point_zip.ZIP.value_counts(normalize=True).head()"
   ]
  },
  {
   "cell_type": "code",
   "execution_count": 43,
   "metadata": {},
   "outputs": [
    {
     "data": {
      "text/html": [
       "<div>\n",
       "<style scoped>\n",
       "    .dataframe tbody tr th:only-of-type {\n",
       "        vertical-align: middle;\n",
       "    }\n",
       "\n",
       "    .dataframe tbody tr th {\n",
       "        vertical-align: top;\n",
       "    }\n",
       "\n",
       "    .dataframe thead th {\n",
       "        text-align: right;\n",
       "    }\n",
       "</style>\n",
       "<table border=\"1\" class=\"dataframe\">\n",
       "  <thead>\n",
       "    <tr style=\"text-align: right;\">\n",
       "      <th></th>\n",
       "      <th>COLLISION_SEVERITY</th>\n",
       "    </tr>\n",
       "    <tr>\n",
       "      <th>ZIP</th>\n",
       "      <th></th>\n",
       "    </tr>\n",
       "  </thead>\n",
       "  <tbody>\n",
       "    <tr>\n",
       "      <th>91911</th>\n",
       "      <td>4.000000</td>\n",
       "    </tr>\n",
       "    <tr>\n",
       "      <th>92124</th>\n",
       "      <td>3.500000</td>\n",
       "    </tr>\n",
       "    <tr>\n",
       "      <th>92154</th>\n",
       "      <td>3.418033</td>\n",
       "    </tr>\n",
       "    <tr>\n",
       "      <th>92113</th>\n",
       "      <td>3.395604</td>\n",
       "    </tr>\n",
       "    <tr>\n",
       "      <th>92103</th>\n",
       "      <td>3.389313</td>\n",
       "    </tr>\n",
       "    <tr>\n",
       "      <th>92136</th>\n",
       "      <td>3.375000</td>\n",
       "    </tr>\n",
       "    <tr>\n",
       "      <th>92108</th>\n",
       "      <td>3.360656</td>\n",
       "    </tr>\n",
       "    <tr>\n",
       "      <th>92123</th>\n",
       "      <td>3.357143</td>\n",
       "    </tr>\n",
       "    <tr>\n",
       "      <th>92105</th>\n",
       "      <td>3.351240</td>\n",
       "    </tr>\n",
       "    <tr>\n",
       "      <th>92101</th>\n",
       "      <td>3.338272</td>\n",
       "    </tr>\n",
       "  </tbody>\n",
       "</table>\n",
       "</div>"
      ],
      "text/plain": [
       "       COLLISION_SEVERITY\n",
       "ZIP                      \n",
       "91911            4.000000\n",
       "92124            3.500000\n",
       "92154            3.418033\n",
       "92113            3.395604\n",
       "92103            3.389313\n",
       "92136            3.375000\n",
       "92108            3.360656\n",
       "92123            3.357143\n",
       "92105            3.351240\n",
       "92101            3.338272"
      ]
     },
     "execution_count": 43,
     "metadata": {},
     "output_type": "execute_result"
    }
   ],
   "source": [
    "# for answering the questions\n",
    "import numpy as np\n",
    "final_merged[['ZIP', \"COLLISION_SEVERITY\"]].groupby('ZIP').agg(np.mean).sort_values(\"COLLISION_SEVERITY\", ascending=False).head(10)"
   ]
  },
  {
   "cell_type": "code",
   "execution_count": 44,
   "metadata": {},
   "outputs": [
    {
     "data": {
      "text/html": [
       "<div>\n",
       "<style scoped>\n",
       "    .dataframe tbody tr th:only-of-type {\n",
       "        vertical-align: middle;\n",
       "    }\n",
       "\n",
       "    .dataframe tbody tr th {\n",
       "        vertical-align: top;\n",
       "    }\n",
       "\n",
       "    .dataframe thead th {\n",
       "        text-align: right;\n",
       "    }\n",
       "</style>\n",
       "<table border=\"1\" class=\"dataframe\">\n",
       "  <thead>\n",
       "    <tr style=\"text-align: right;\">\n",
       "      <th></th>\n",
       "      <th>COLLISION_SEVERITY</th>\n",
       "    </tr>\n",
       "    <tr>\n",
       "      <th>OTHER_PARTY</th>\n",
       "      <th></th>\n",
       "    </tr>\n",
       "  </thead>\n",
       "  <tbody>\n",
       "    <tr>\n",
       "      <th>2</th>\n",
       "      <td>3.314286</td>\n",
       "    </tr>\n",
       "    <tr>\n",
       "      <th>1</th>\n",
       "      <td>3.304380</td>\n",
       "    </tr>\n",
       "    <tr>\n",
       "      <th>5</th>\n",
       "      <td>3.250000</td>\n",
       "    </tr>\n",
       "    <tr>\n",
       "      <th>3</th>\n",
       "      <td>3.226667</td>\n",
       "    </tr>\n",
       "    <tr>\n",
       "      <th>4</th>\n",
       "      <td>3.106729</td>\n",
       "    </tr>\n",
       "    <tr>\n",
       "      <th>0</th>\n",
       "      <td>2.000000</td>\n",
       "    </tr>\n",
       "  </tbody>\n",
       "</table>\n",
       "</div>"
      ],
      "text/plain": [
       "             COLLISION_SEVERITY\n",
       "OTHER_PARTY                    \n",
       "2                      3.314286\n",
       "1                      3.304380\n",
       "5                      3.250000\n",
       "3                      3.226667\n",
       "4                      3.106729\n",
       "0                      2.000000"
      ]
     },
     "execution_count": 44,
     "metadata": {},
     "output_type": "execute_result"
    }
   ],
   "source": [
    "# for answering the questions\n",
    "df = final_merged[final_merged['OTHER_PARTY']!=9]\n",
    "df[['OTHER_PARTY', \"COLLISION_SEVERITY\"]].groupby('OTHER_PARTY').agg(np.mean).sort_values(\"COLLISION_SEVERITY\", ascending=False)"
   ]
  },
  {
   "cell_type": "code",
   "execution_count": 45,
   "metadata": {},
   "outputs": [
    {
     "data": {
      "text/plain": [
       "1    0.710581\n",
       "4    0.223548\n",
       "3    0.038900\n",
       "2    0.018154\n",
       "5    0.008299\n",
       "0    0.000519\n",
       "Name: OTHER_PARTY, dtype: float64"
      ]
     },
     "execution_count": 45,
     "metadata": {},
     "output_type": "execute_result"
    }
   ],
   "source": [
    "# for answering the questions\n",
    "df.OTHER_PARTY.value_counts(normalize=True)"
   ]
  },
  {
   "cell_type": "code",
   "execution_count": 46,
   "metadata": {},
   "outputs": [
    {
     "data": {
      "text/plain": [
       "92109    71\n",
       "92101    31\n",
       "92110    20\n",
       "92104    18\n",
       "92105    16\n",
       "Name: ZIP, dtype: int64"
      ]
     },
     "execution_count": 46,
     "metadata": {},
     "output_type": "execute_result"
    }
   ],
   "source": [
    "df2 = final_merged[final_merged['ALCOHOL_INVOLVED'] == 1][['ZIP',\"ALCOHOL_INVOLVED\"]]\n",
    "df2.ZIP.value_counts().head()"
   ]
  },
  {
   "cell_type": "markdown",
   "metadata": {
    "deletable": false,
    "nbgrader": {
     "checksum": "630250824b9da45982d2b24f0f352a4b",
     "grade": true,
     "grade_id": "cell-1e7068bc9f168fd9",
     "locked": false,
     "points": 2,
     "schema_version": 1,
     "solution": true
    }
   },
   "source": [
    "### Findings:\n",
    "\n",
    "After looking at the datatable we generated, we found out that there are around 30% of collisons happening on the route, which means that lots of the collision do not happen on the route. Therefore, it is relatively safer for the bicylist to ride their bikes on the bike route. Since there are only bicyles on the bike route, their collisions with walking people and driving cars are greatly reduced.\n",
    "\n",
    "If we only look at the number of collisions occurs in each zip code, we found out that the five most collision zip zones are 92109, 92101, 92105, 92104 and 92037. 92109 has the most, nearest 12% of the total collisions. However, after we compute the mean collision severity by the zip code, we found out that none of them are in the the first 10 most server collision injury zipcode zone. The reason we suspect is that there are quite a lot of parks in the 92109 zipcode zone, which means that the speed of the bike is limited. Even there is a collision happening, the collision severity is no gonna be sever. And the reason for its high frequence of collisions might due to the fact of large amount of visiters. If we control the other party type, we found that label 2 and label 1 causes the most collision severity. Label 2 refers to the Pedestrian, and label 1 refers to the Driver (including Hit and Run), which makes sense. As collision between a car and a bike usually causes sever collision, and if a bike hit a pedestrain with no speed limit, it would also likely to cause sever collisions. According to our data, around 71% of collision occurs between a bicyclist and a pedestrian.\n",
    "\n",
    "After computing the number of alcohol related accident in each zipcode zone, we found out that the first five are exactly the same as the first five total collision occuring zipcode zone.(92109, 92101, 92105, 92104 and 92037) Thus, the reason for its high occurance alcohol related accident might due to the large base of the collisions. And also since there are a lot of visitors in these park areas, the circustance that the bicyclist might not drink alcohol, the pedestrain drink alchohol instead, thus not able to avoid accidents in time.\n",
    "\n",
    "For the classification, we use random forest classifer to try to predict how sever injury the collision would result in. We have tried many features, the most sigificant feature we found is whether the collision happen on the bike route, which indicating there is a huge difference in collision between staying on the bike route compare to riding bike on other places."
   ]
  },
  {
   "cell_type": "markdown",
   "metadata": {
    "deletable": false,
    "nbgrader": {
     "checksum": "b04278e61ab766bc78e7fcfc737b469d",
     "grade": true,
     "grade_id": "cell-d5df564323ad019d",
     "locked": false,
     "points": 2,
     "schema_version": 1,
     "solution": true
    }
   },
   "source": []
  },
  {
   "cell_type": "markdown",
   "metadata": {},
   "source": [
    "### EC"
   ]
  },
  {
   "cell_type": "code",
   "execution_count": 65,
   "metadata": {
    "deletable": false,
    "nbgrader": {
     "checksum": "1bb4c5663b9ea00ee0d1ef5f157612d2",
     "grade": true,
     "grade_id": "cell-545399295b08666d",
     "locked": false,
     "points": 5,
     "schema_version": 1,
     "solution": true
    }
   },
   "outputs": [],
   "source": [
    "# EC\n",
    "# YOUR CODE HERE\n",
    "# Merge the data with victim\n",
    "final_merge_victim = final_merged.merge(victims, on = 'CASE_ID')"
   ]
  },
  {
   "cell_type": "code",
   "execution_count": 66,
   "metadata": {},
   "outputs": [],
   "source": [
    "# after searching, we found out that the party number is also a significant feature, \n",
    "# we want to include it into the data\n",
    "# split our data and choose only the related features\n",
    "X = final_merge_victim[['ON_ROUTE', 'ZIP','PARTY_TYPE', 'ALCOHOL_INVOLVED'\\\n",
    "                  , 'PARTY_SOBRIETY', 'LOCATION_TYPE', 'WEATHER_1', 'PARTY_NUMBER_y']]\n",
    "y = final_merge_victim['COLLISION_SEVERITY']\n",
    "X_train, X_test, y_train, y_test = train_test_split(X, y, test_size=0.25)"
   ]
  },
  {
   "cell_type": "code",
   "execution_count": 67,
   "metadata": {},
   "outputs": [
    {
     "name": "stderr",
     "output_type": "stream",
     "text": [
      "/opt/conda/lib/python3.6/site-packages/sklearn/ensemble/forest.py:246: FutureWarning: The default value of n_estimators will change from 10 in version 0.20 to 100 in 0.22.\n",
      "  \"10 in version 0.20 to 100 in 0.22.\", FutureWarning)\n"
     ]
    },
    {
     "data": {
      "text/plain": [
       "Pipeline(memory=None,\n",
       "     steps=[('onehot', OneHotEncoder(categorical_features=None, categories=None,\n",
       "       dtype=<class 'numpy.float64'>, handle_unknown='ignore',\n",
       "       n_values=None, sparse=True)), ('clf', RandomForestClassifier(bootstrap=True, class_weight=None, criterion='gini',\n",
       "            max_depth=None, max_features...obs=None,\n",
       "            oob_score=False, random_state=None, verbose=0,\n",
       "            warm_start=False))])"
      ]
     },
     "execution_count": 67,
     "metadata": {},
     "output_type": "execute_result"
    }
   ],
   "source": [
    "# we use random forest classifier to train and fit our models\n",
    "clf = RandomForestClassifier()\n",
    "pl = Pipeline(steps=[\n",
    "            ('onehot', OneHotEncoder(handle_unknown = 'ignore')),\n",
    "            ('clf', clf)\n",
    "        ])\n",
    "pl.fit(X_train, y_train)"
   ]
  },
  {
   "cell_type": "code",
   "execution_count": 68,
   "metadata": {},
   "outputs": [
    {
     "data": {
      "text/plain": [
       "0.7289690069576218"
      ]
     },
     "execution_count": 68,
     "metadata": {},
     "output_type": "execute_result"
    }
   ],
   "source": [
    "# training accuracy\n",
    "pl.score(X_train,y_train)"
   ]
  },
  {
   "cell_type": "code",
   "execution_count": 69,
   "metadata": {},
   "outputs": [
    {
     "data": {
      "text/plain": [
       "0.562618595825427"
      ]
     },
     "execution_count": 69,
     "metadata": {},
     "output_type": "execute_result"
    }
   ],
   "source": [
    "# testing accuracy\n",
    "pl.score(X_test, y_test)"
   ]
  },
  {
   "cell_type": "code",
   "execution_count": 70,
   "metadata": {},
   "outputs": [
    {
     "name": "stdout",
     "output_type": "stream",
     "text": [
      "Feature ranking:\n",
      "1 feature: PARTY_NUMBER_y(0.04918968765805802)\n",
      "2 feature: PARTY_SOBRIETY(0.03851790109377708)\n",
      "3 feature: ON_ROUTE(0.038342120296097085)\n",
      "4 feature: WEATHER_1(0.038136027343336404)\n",
      "5 feature: ZIP(0.03201472465146457)\n",
      "6 feature: PARTY_TYPE(0.020512900857893486)\n",
      "7 feature: ALCOHOL_INVOLVED(0.017385799826809226)\n",
      "8 feature: LOCATION_TYPE(0.009948736112645603)\n"
     ]
    }
   ],
   "source": [
    "# we want to find out the most significant feature in predicting collision severity\n",
    "forest = pl.steps[1][1]\n",
    "importances = forest.feature_importances_\n",
    "std = np.std([tree.feature_importances_ for tree in forest.estimators_],\n",
    "             axis=0)\n",
    "indices = np.argsort(importances)[::-1]\n",
    "# Print the feature ranking\n",
    "print(\"Feature ranking:\")\n",
    "\n",
    "apperance = []\n",
    "temp = []\n",
    "for f in range(len(indices)):\n",
    "    if X.columns[int(pl.steps[0][1].get_feature_names()[indices[f]][1])] in temp:\n",
    "        continue\n",
    "    else:\n",
    "        apperance += [(X.columns[int(pl.steps[0][1].get_feature_names()[indices[f]][1])],importances[indices[f]])]\n",
    "        temp += [X.columns[int(pl.steps[0][1].get_feature_names()[indices[f]][1])]]\n",
    "\n",
    "\n",
    "for f in range(X.shape[1]):\n",
    "    \n",
    "    print(\"{0} feature: {1}({2})\".format(f + 1, apperance[f][0],apperance[f][1] ))\n"
   ]
  },
  {
   "cell_type": "markdown",
   "metadata": {},
   "source": [
    "EC Finding:\n",
    "After merging the victim table with our orginal data, we try to find more information about collision. After trying for many times, the additional most significant feature we found is party number. Which makes sense, as there are more people, the collision will be more sever. The random forest classifer shows party number is ranked number one in the feature ranking, and the testing accuracy improved compared to the classification we previously do. \n",
    "\n",
    "Combining all findings from this entire project, we would suggest the local commission to build bike route everywhere in SD, especially in 92109, 92101, 92105, 92104 and 92037 zipcode zone as most bike collision happen over these area. When constructing the bike route, make sure to make the bike route as wide as possible, because if the bike route is too crowded, the collision between multiple party would increase the degree of collision injuries."
   ]
  },
  {
   "cell_type": "markdown",
   "metadata": {},
   "source": [
    " you present these findings to a local planning commission that considers where to create bike paths avoiding areas that are prone to serious collisions?\n",
    "\n"
   ]
  },
  {
   "cell_type": "code",
   "execution_count": 71,
   "metadata": {},
   "outputs": [],
   "source": [
    "# Please let us know how much time you spent on this project, in hours: \n",
    "# (we will only examine distributions and won't look at individual responses)\n",
    "assignment_timespent = 30\n",
    "extracredit_timespent = 5"
   ]
  },
  {
   "cell_type": "markdown",
   "metadata": {},
   "source": [
    "### URL for the layers (only put related url here)"
   ]
  },
  {
   "cell_type": "markdown",
   "metadata": {},
   "source": [
    "https://ucsdonline.maps.arcgis.com/home/item.html?id=5e6747f305514e50ad832168e0431ce7\n",
    "https://ucsdonline.maps.arcgis.com/home/item.html?id=9a05ce353b3b4b6bb3419870501a5a7f\n",
    "https://ucsdonline.maps.arcgis.com/home/item.html?id=75d4533ea58b4d649f53b5883928cd59\n",
    "https://ucsdonline.maps.arcgis.com/home/item.html?id=c82eb1daba8a4732a33ae01e6c8d8fc4\n",
    "https://ucsdonline.maps.arcgis.com/home/item.html?id=f6b1f93c0fb44ff689a7761fa85c40f8"
   ]
  }
 ],
 "metadata": {
  "kernelspec": {
   "display_name": "Python 3",
   "language": "python",
   "name": "python3"
  },
  "language_info": {
   "codemirror_mode": {
    "name": "ipython",
    "version": 3
   },
   "file_extension": ".py",
   "mimetype": "text/x-python",
   "name": "python",
   "nbconvert_exporter": "python",
   "pygments_lexer": "ipython3",
   "version": "3.6.8"
  }
 },
 "nbformat": 4,
 "nbformat_minor": 2
}
