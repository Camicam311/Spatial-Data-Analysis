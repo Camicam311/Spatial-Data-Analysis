{
 "cells": [
  {
   "cell_type": "markdown",
   "metadata": {
    "deletable": false,
    "editable": false,
    "nbgrader": {
     "checksum": "60a2f7d76adaff7f3f7146c754c15f93",
     "grade": false,
     "grade_id": "cell-1f334cce738a72a5",
     "locked": true,
     "schema_version": 1,
     "solution": false
    }
   },
   "source": [
    "#### Mini-Project # 4\n",
    "\n",
    "This project will focus on suitability analysis with raster data. Your tasks will be both conceptual-level and technical. \n",
    "\n",
    "At the conceptual level, you will define a suitability model of your choice, for an area of your choice. See https://en.wikipedia.org/wiki/Suitability_model for a brief description of what a suitability model is. For example, you may be looking for best areas for community gardens: these are often in underutilized land in residential land uses, with good soils, accessible (not steep slope), etc. So you would be looking for areas with a specific type of land use/land cover, with an appropriate range of values of slope, etc. You may build additional criteria based on a range of precipitaiton values, whether the area is affected by wildfires, has mild temperatures, low levels of soil erosion, has vegeration (eg derived from satellite imagery using NDVI), etc. Feel free to use the imagery layers we explored or mentioned during the raster-focused lectures. One of the cells in the last raster notebook contained a list of about a dozen such layers available through AGOL - but feel free to find more. You can use any two of the map combination techniques discussed in the lecture on Thu 5/9. You should clearly identify the map combination technique you use, and discuss any uncertainty issues associated with these specific techniques. \n",
    "\n",
    "As the outcome of this part, you will need to a) describe the suitability model you want to develop; b) identify the raster data layers you will use; and c) describe two of the map combination techniques you will use to derive the two suitablity maps, and their pros and cons. In your model you will need to combine at least 3 raster data layers.\n",
    "\n",
    "The second part will involve implementing your suitability model using arcgis raster functions. For this exercise, we'll only use local functions, and possibly focal_statistics. This is the current state of implementation of raster functions accessible through python API and in ArcGIS Online. Examples of what works are in the lecture notebooks. Look throufgh the last notebook carefully, as there are a few extra cells not shown in the lecture, which demonstrate *working* map combination examples for different types of layers. \n",
    "\n",
    "Be creative - but I'd rather not have you wander into blind alleys too much as you look for a declared function and it is simply not there. Note that since some functions are associated with raster services, they depend on the version of the server a particular imagery layer is served from. See in the lecture notebooks how you can retrieve the version of API supported by each layer, and which functions are supported in each API. \n",
    "\n",
    "The third part will be a brief write-up comparing the two output rasters generated for your suitability model using the two map combination techniques. \n",
    "\n",
    "The notebook should include documentation of the steps, as usually."
   ]
  },
  {
   "cell_type": "markdown",
   "metadata": {},
   "source": [
    "### Names: Bolin Yang, Shuibenyang Yuan\n",
    "\n",
    "### IDs: A92111272, A14031016\n"
   ]
  },
  {
   "cell_type": "markdown",
   "metadata": {
    "deletable": false,
    "editable": false,
    "nbgrader": {
     "checksum": "2df32bf94c3798a31322c3f878b69a52",
     "grade": false,
     "grade_id": "cell-4f680b2b69898e08",
     "locked": true,
     "schema_version": 1,
     "solution": false
    }
   },
   "source": [
    "1. Formulate a suitability model (markdown, about 100 words)"
   ]
  },
  {
   "cell_type": "markdown",
   "metadata": {
    "deletable": false,
    "nbgrader": {
     "checksum": "1e00fae788334015d4b959fd21c8b6fb",
     "grade": true,
     "grade_id": "cell-3615898eefcdb5c2",
     "locked": false,
     "points": 5,
     "schema_version": 1,
     "solution": true
    }
   },
   "source": [
    "Our goal is to find suitable housing in San Diego areas, based on three factors (mean rainfall, mean temperture and air pollution). We picked these three features based on a census we have done to our friends and classmates. Most of them believe that these three factors are the most important ones in finding suitable housing. We will find the imagery layers for these three factors, and combine them into a single raster using two different map combination techniques. During the process, we will normailize the values in each rasters based on the data and definitions in each features. (Thus, the value will become binary values 0 or 1) The two different map combination will be Exclusionary screening in Dominance rules and Voting Tabulation in Contributory rules. In the final part, we will compare and analyze the result generated by the map combination."
   ]
  },
  {
   "cell_type": "code",
   "execution_count": 1,
   "metadata": {},
   "outputs": [
    {
     "name": "stdout",
     "output_type": "stream",
     "text": [
      "Enter password: ········\n"
     ]
    }
   ],
   "source": [
    "# 2. Imports, etc.\n",
    "%matplotlib inline \n",
    "from arcgis import GIS\n",
    "gis = GIS(username='boy015_UCSDOnline8')\n",
    "import arcgis.raster\n",
    "from arcgis.raster import *\n",
    "from arcgis.geometry import *\n",
    "from arcgis.geocoding import geocode"
   ]
  },
  {
   "cell_type": "code",
   "execution_count": 2,
   "metadata": {
    "deletable": false,
    "editable": false,
    "nbgrader": {
     "checksum": "e5d57f33659fd1049e0a31711d657e76",
     "grade": false,
     "grade_id": "cell-2deb10c691a4d1c2",
     "locked": true,
     "schema_version": 1,
     "solution": false
    }
   },
   "outputs": [],
   "source": [
    "# 3. List imagery layers to be used in your model. This cell should contian layer definitions. \n",
    "# Include at least three initial raster sources. "
   ]
  },
  {
   "cell_type": "code",
   "execution_count": 3,
   "metadata": {
    "deletable": false,
    "nbgrader": {
     "checksum": "c5d6f4085d8a5d90024220815552491e",
     "grade": true,
     "grade_id": "cell-0dbfd5942a917632",
     "locked": false,
     "points": 5,
     "schema_version": 1,
     "solution": true
    }
   },
   "outputs": [],
   "source": [
    "# YOUR CODE HERE\n",
    "# rainfall imagery layers\n",
    "# This layer displays average annual rainfall in inches for the period of January 1971 through December 2009.\n",
    "# Examining climate over time is useful when quantifying the effects of climate changes on species’ distributions \n",
    "# for past, current, and forecasted scenarios.  The relationships established between species demographics and \n",
    "# distributions with bioclimatic predictors can inform land managers of climatic effects on species during \n",
    "# decision making processes.\n",
    "usa_mean_rainfall = \\\n",
    "ImageryLayer(\"https://landscape3.arcgis.com/arcgis/rest/services/USA_Mean_Rainfall/ImageServer\", gis)\n",
    "\n",
    "# temperature imagery layers\n",
    "# Annual mean temperature is mean of the average temperatures for each month in degrees Celsius \n",
    "# for the period of January 1971 through December 2009. The relationships established between species \n",
    "# demographics and distributions with bioclimatic predictors can inform land managers of climatic effects \n",
    "# on species during decision making processes.\n",
    "usa_mean_temperature = \\\n",
    "ImageryLayer(\"https://landscape3.arcgis.com/arcgis/rest/services/USA_Mean_Temperature/ImageServer\", gis)\n",
    "\n",
    "# air pollution imagery layers\n",
    "# The data set represents a series of three-year running mean grids (1998-2012) of fine particulate matter \n",
    "# (solid particles and liquid droplets) that were derived \n",
    "# from a combination of MODIS (Moderate Resolution Imaging Spectroradiometer), \n",
    "# MISR (Multi-angle Imaging SpectroRadiometer) and SeaWIFS (Sea-Viewing Wide Field-of-View Sensor) \n",
    "# AOD satellite retrievals. Together the grids provide a continuous surface of concentrations \n",
    "# in micrograms per cubic meter of particulate matter 2.5 micrometers or smaller (PM2.5) \n",
    "# for health and environmental research. \n",
    "global_air_pollution = \\\n",
    "ImageryLayer('https://sedac.ciesin.columbia.edu/arcgis/rest/services/sedac/sdei_global_annual_avg_pm2_5_2001_2010_image_service/ImageServer',gis)"
   ]
  },
  {
   "cell_type": "code",
   "execution_count": 4,
   "metadata": {
    "deletable": false,
    "editable": false,
    "nbgrader": {
     "checksum": "0e9af4998b90314f2ac175dca4c745ff",
     "grade": false,
     "grade_id": "cell-6d61831ab53a29b4",
     "locked": true,
     "schema_version": 1,
     "solution": false
    }
   },
   "outputs": [],
   "source": [
    "# 4. Derive the area of interest (AOI) and its geometry and extent. \n",
    "# The smaller the area the better (so that you don't run into raster size limitations)"
   ]
  },
  {
   "cell_type": "code",
   "execution_count": 5,
   "metadata": {
    "deletable": false,
    "nbgrader": {
     "checksum": "47a95fe75d7a5a10350b60557e50afd2",
     "grade": true,
     "grade_id": "cell-6a9886a7c4908c79",
     "locked": false,
     "points": 5,
     "schema_version": 1,
     "solution": true
    }
   },
   "outputs": [],
   "source": [
    "# YOUR CODE HERE\n",
    "# we choose San Diego as our area of interest\n",
    "# find geocode of san diego and extent and find geometry and spatial reference of the area\n",
    "study_area_gcd = geocode(address='San Diego County, CA', out_sr=usa_mean_rainfall.extent['spatialReference'])\n",
    "study_area_extent = study_area_gcd[0]['extent']\n",
    "counties_item = gis.content.search('USA Counties generalized', 'Feature Layer', outside_org=True)[0]\n",
    "counties_lyr = counties_item.layers[0]\n",
    "study_area_query = counties_lyr.query(\"FIPS='06073'\", return_geometry=True)\n",
    "study_area_geom= study_area_query.features[0].geometry\n",
    "study_area_geom['spatialReference'] = study_area_query.spatial_reference\n",
    "\n",
    "# define more exact location and update the spatial reference\n",
    "study_area_ex = Geometry(study_area_geom).geoextent \n",
    "tup = (('xmin',study_area_ex[0]), ('ymin', study_area_ex[1]), ('xmax',study_area_ex[2]), ('ymax', study_area_ex[3]))\n",
    "study_area_extent = dict(tup)\n",
    "crs = \"{'latestwkid':3857, 'wkid':102100}\"\n",
    "study_area_extent.update({'spatialReference':{'latestwkid':3857, 'wkid':102100}})"
   ]
  },
  {
   "cell_type": "markdown",
   "metadata": {
    "deletable": false,
    "editable": false,
    "nbgrader": {
     "checksum": "bad09c5b05d305c9ade4301b7bff1b7e",
     "grade": false,
     "grade_id": "cell-bb7ea8206068d64f",
     "locked": true,
     "schema_version": 1,
     "solution": false
    }
   },
   "source": [
    "5. Name the two map combination techniques you will use to combine the data and describe their pros and cons (markdown) "
   ]
  },
  {
   "cell_type": "markdown",
   "metadata": {
    "deletable": false,
    "nbgrader": {
     "checksum": "e2bb1e614b51c29656ec324931cb6d9f",
     "grade": true,
     "grade_id": "cell-ab323b38c2d406c0",
     "locked": false,
     "points": 5,
     "schema_version": 1,
     "solution": true
    }
   },
   "source": [
    "We used two kind of map combination techniques:\n",
    "####   - Dominance Exclusionary Screening:\n",
    "        - we used a * b * c to perform dominance exclusionary screening. a and b and c are all binary layers, and we have preprocessed to binary form, it will output the raster that all label 1 areas that all three rasters interesct. It will select the area that have qualify the condition of good condition of living. \n",
    "        - Pros: it will accurately select the areas that qualify all the condition, and they will for sure under the criteria of 'good for living'\n",
    "        - Cons: Exclusion screening is too strict, it will output too little areas which have all 1 labels in all three maps. It will not output the rank of areas that are good for living. For instance, it will not sort out the areas who are good in air condition and raining but not good in temperature.\n",
    "        \n",
    "####   - Contributory Voting Tabulation:\n",
    "        - we used contributory voting tabulation as our second choice of combining raster layers. We perform this by using a + b + c in raster calculator. The voting tabulation shows how many positive (or negative) factors occur at a location. We can rank the best area for living by ranking them.\n",
    "        - Pros: it perserved all the details of the areas qualify how many conditions qualify the condition of good condition of living.\n",
    "        - Cons: This technique will lead a inaccurate result. Because each attributes of 'good for living' weights differently, simplying adding them up with contributory voting tabulation will make the rank inaccurate. For example, some people do not like rain, they may weight raining as the most attribute that for good for living."
   ]
  },
  {
   "cell_type": "code",
   "execution_count": 6,
   "metadata": {
    "deletable": false,
    "editable": false,
    "nbgrader": {
     "checksum": "4d21d8bea566ec451d2a68c07ec84fd4",
     "grade": false,
     "grade_id": "cell-e380ca0f06dad30f",
     "locked": true,
     "schema_version": 1,
     "solution": false
    }
   },
   "outputs": [],
   "source": [
    "# 6. Prepare your input layers for map combination: \n",
    "# clip to AOI, remap/normalize, add color map, visualize the layers and legends. "
   ]
  },
  {
   "cell_type": "code",
   "execution_count": 7,
   "metadata": {
    "deletable": false,
    "nbgrader": {
     "checksum": "1c9f632ab8e0edfbdba1e3b037e0f380",
     "grade": true,
     "grade_id": "cell-448e5b0e9c96e718",
     "locked": false,
     "points": 5,
     "schema_version": 1,
     "solution": true
    }
   },
   "outputs": [
    {
     "data": {
      "application/vnd.jupyter.widget-view+json": {
       "model_id": "cc851fc60dd04b9a88259038f6149e3c",
       "version_major": 2,
       "version_minor": 0
      },
      "text/plain": [
       "MapView(layout=Layout(height='400px', width='100%'), legend=True)"
      ]
     },
     "metadata": {},
     "output_type": "display_data"
    },
    {
     "data": {
      "text/html": [
       "<div class=\"map-static-img-preview-cae96672-5ea3-4246-a789-87e1a5f96529\"><img src=\"\"></img></div>"
      ],
      "text/plain": [
       "<IPython.core.display.HTML object>"
      ]
     },
     "metadata": {},
     "output_type": "display_data"
    }
   ],
   "source": [
    "# YOUR CODE HERE\n",
    "# Rainfall layers\n",
    "# clip usa mean rainfall layer to AOI, remap/normalize, add color map, visualize the layers and legends. \n",
    "rain_study_area = clip(raster=usa_mean_rainfall, geometry=study_area_geom)\n",
    "\n",
    "# create map for the raster\n",
    "# we define the 0-20 mm as suitable place to live based on relative data in san diego, and label as 1,\n",
    "# we define the 20 and above mm as not suitable place to live based on relative data in san diego, and label as 0\n",
    "map_rain = gis.map()\n",
    "map_rain.extent = study_area_extent\n",
    "map_rain.legend=True\n",
    "clrmap5 =  [[1,173, 233, 255],[0,28, 105, 206]]\n",
    "rain_n = remap(raster=rain_study_area,\n",
    "                  input_ranges=[0, 20, 20, 50],\n",
    "                  output_values=[1,0],  astype='U8')\n",
    "rain_n_c = colormap(rain_n, colormap=clrmap5)\n",
    "map_rain.add_layer(rain_n_c)\n",
    "map_rain"
   ]
  },
  {
   "cell_type": "code",
   "execution_count": 8,
   "metadata": {},
   "outputs": [
    {
     "data": {
      "application/vnd.jupyter.widget-view+json": {
       "model_id": "9d8e6e7f9c9a4417b69579ff943ca964",
       "version_major": 2,
       "version_minor": 0
      },
      "text/plain": [
       "MapView(layout=Layout(height='400px', width='100%'), legend=True)"
      ]
     },
     "metadata": {},
     "output_type": "display_data"
    },
    {
     "data": {
      "text/html": [
       "<div class=\"map-static-img-preview-bee96bd5-7da7-4ad6-9dd0-d89cf7165a05\"><img src=\"\"></img></div>"
      ],
      "text/plain": [
       "<IPython.core.display.HTML object>"
      ]
     },
     "metadata": {},
     "output_type": "display_data"
    }
   ],
   "source": [
    "# Temperature layers\n",
    "# clip usa mean temperature layer to AOI, remap/normalize, add color map, visualize the layers and legends.\n",
    "temperature_study_area = clip(raster=usa_mean_temperature, geometry=study_area_geom)\n",
    "\n",
    "# create map for the raster\n",
    "# we define the 16 and above degree as suitable place to live in san diego, and label as 1,\n",
    "# we define the 16 and below degree as not suitable place to live in san diego, and label as 0\n",
    "# based on the article found in https://www.scientificamerican.com/article/why-people-feel-hot/?redirect=1\n",
    "map_temperature = gis.map()\n",
    "map_temperature.extent = study_area_extent\n",
    "map_temperature.legend=True\n",
    "clrmap5 =  [[0,255, 219, 181],[1,255, 101, 12]]\n",
    "temperature_n = remap(raster=temperature_study_area,\n",
    "                  input_ranges=[10, 16, 16, 23],\n",
    "                  output_values=[0,1],  astype='U8')\n",
    "temperature_n_c = colormap(temperature_n, colormap=clrmap5)\n",
    "map_temperature.add_layer(temperature_n_c)\n",
    "map_temperature"
   ]
  },
  {
   "cell_type": "code",
   "execution_count": 9,
   "metadata": {},
   "outputs": [
    {
     "data": {
      "application/vnd.jupyter.widget-view+json": {
       "model_id": "481ee72c75e6458fb15960d7dde53dee",
       "version_major": 2,
       "version_minor": 0
      },
      "text/plain": [
       "MapView(layout=Layout(height='400px', width='100%'), legend=True)"
      ]
     },
     "metadata": {},
     "output_type": "display_data"
    },
    {
     "data": {
      "text/html": [
       "<div class=\"map-static-img-preview-f67efdd7-5121-4c12-9e75-9f3a670a1232\"><img src=\"\"></img></div>"
      ],
      "text/plain": [
       "<IPython.core.display.HTML object>"
      ]
     },
     "metadata": {},
     "output_type": "display_data"
    }
   ],
   "source": [
    "# Air pollution layers\n",
    "# clip global air pollution layer to AOI, remap/normalize, add color map, visualize the layers and legends.\n",
    "air_pollution_study_area = clip(raster=global_air_pollution, geometry=study_area_geom)\n",
    "\n",
    "# create map for the raster\n",
    "# we define the 0-8 index as suitable place to live based on relative data in san diego, and label as 1,\n",
    "# we define the 8 and above index as not suitable place to live based on relative data in san diego, and label as 0\n",
    "map_air_pollution = gis.map()\n",
    "map_air_pollution.extent = study_area_extent\n",
    "map_air_pollution.legend=True\n",
    "clrmap5 =  [[1, 226, 226, 226], [0, 79, 79, 79]]\n",
    "air_pollution_n = remap(raster=air_pollution_study_area,\n",
    "                  input_ranges=[0, 8, 8, 20],\n",
    "                  output_values=[1,0],  astype='U8') #TO BE CHANGED\n",
    "air_pollution_n_c = colormap(air_pollution_n, colormap=clrmap5)\n",
    "map_air_pollution.add_layer(air_pollution_n_c)\n",
    "map_air_pollution"
   ]
  },
  {
   "cell_type": "code",
   "execution_count": 10,
   "metadata": {
    "deletable": false,
    "editable": false,
    "nbgrader": {
     "checksum": "96e22a0cb632e74edbf87e3b00de2622",
     "grade": false,
     "grade_id": "cell-7edf535fc82d9963",
     "locked": true,
     "schema_version": 1,
     "solution": false
    }
   },
   "outputs": [],
   "source": [
    "# 7a. Generate a composite raster layer for your first map combination technique\n",
    "# name of the technique (refer to lecture PPT):"
   ]
  },
  {
   "cell_type": "code",
   "execution_count": 11,
   "metadata": {},
   "outputs": [
    {
     "data": {
      "image/jpeg": "[encoded data removed]",
      "text/plain": [
       "<ImageryLayer url:\"https://elevation.arcgis.com/arcgis/rest/services/WorldElevation/Terrain/ImageServer\">"
      ]
     },
     "execution_count": 11,
     "metadata": {},
     "output_type": "execute_result"
    }
   ],
   "source": [
    "# before combine we need to prepare a dummy layer in order to make raster calculator successful\n",
    "usa_elevation = ImageryLayer('https://elevation.arcgis.com/arcgis/rest/services/WorldElevation/Terrain/ImageServer',gis)\n",
    "slope_lyr = slope(dem=usa_elevation, slope_type='DEGREE', z_factor=10)\n",
    "slope_lyr.extent = study_area_extent\n",
    "slope_study_area = clip(raster=slope_lyr, geometry=study_area_geom)\n",
    "\n",
    "# define colors to be maped\n",
    "clrmap2 =  [[0, 230, 0, 0], [1, 38, 115, 0]]\n",
    "slope_b = remap(raster=slope_study_area,\n",
    "input_ranges=[0.0,90, 90.0,90.0],\n",
    "output_values=[1,0], astype='U8')\n",
    "slope_b_c = colormap(slope_b, colormap=clrmap2)\n",
    "slope_b_c"
   ]
  },
  {
   "cell_type": "code",
   "execution_count": 12,
   "metadata": {
    "deletable": false,
    "nbgrader": {
     "checksum": "07c9a317ead4270f4b278532a73208f9",
     "grade": true,
     "grade_id": "cell-8987729052b0ede1",
     "locked": false,
     "points": 5,
     "schema_version": 1,
     "solution": true
    }
   },
   "outputs": [
    {
     "data": {
      "application/vnd.jupyter.widget-view+json": {
       "model_id": "df3a6517a0ae4b0fa7e004194fd7a230",
       "version_major": 2,
       "version_minor": 0
      },
      "text/plain": [
       "MapView(layout=Layout(height='400px', width='100%'), legend=True)"
      ]
     },
     "metadata": {},
     "output_type": "display_data"
    },
    {
     "data": {
      "text/html": [
       "<div class=\"map-static-img-preview-9fe824d6-7b85-43e9-924f-09caf9101e1f\"><img src=\"\"></img></div>"
      ],
      "text/plain": [
       "<IPython.core.display.HTML object>"
      ]
     },
     "metadata": {},
     "output_type": "display_data"
    }
   ],
   "source": [
    "# YOUR CODE HERE\n",
    "# First method: Exclusionary screening in Dominance rules\n",
    "# define colors to be maped\n",
    "clrmap2 =  [[0, 230, 0, 0], [1, 38, 115, 0]]\n",
    "\n",
    "# combine the three rasters into one using raster calculator based on Exclusionary screening in Dominance rules\n",
    "# this is where the error occurs, we will include this error in the report in the extra credit\n",
    "# basically it is because the dataset is too large to be used in raster calculator function\n",
    "rc_out1 = \\\n",
    "raster_calculator(rasters = [slope_b_c,rain_n_c,air_pollution_n_c,temperature_n_c], \\\n",
    "    input_names = [\"D\",\"a\",\"b\",\"c\"], expression = \"D * a * b * c\", extent_type='FirstOf',\n",
    "                  cellsize_type='FirstOf', astype='UNKNOWN')\n",
    "\n",
    "# assuming the previous function works, the code for showing the raster, 0 for not suitable and 1 for suitable relatively\n",
    "# we use red color for the label 0 and green color for the label 1\n",
    "rc_out_b_c = colormap(rc_out1, colormap=clrmap2)\n",
    "map_ras = gis.map()\n",
    "map_ras.extent = study_area_extent\n",
    "map_ras.legend=True\n",
    "map_ras.add_layer(rc_out_b_c)\n",
    "map_ras"
   ]
  },
  {
   "cell_type": "code",
   "execution_count": 13,
   "metadata": {
    "deletable": false,
    "editable": false,
    "nbgrader": {
     "checksum": "38b54d7329f3f6951224212c296e215c",
     "grade": false,
     "grade_id": "cell-30672e3542f7be9c",
     "locked": true,
     "schema_version": 1,
     "solution": false
    }
   },
   "outputs": [],
   "source": [
    "# 7b. Generate a composite raster layer for your second map combination technique\n",
    "# name of the technique (refer to lecture PPT):"
   ]
  },
  {
   "cell_type": "code",
   "execution_count": 14,
   "metadata": {
    "deletable": false,
    "nbgrader": {
     "checksum": "a0cabf9c59274a87b1251f2e39034f10",
     "grade": true,
     "grade_id": "cell-d9b4d2772747236a",
     "locked": false,
     "points": 5,
     "schema_version": 1,
     "solution": true
    }
   },
   "outputs": [
    {
     "data": {
      "application/vnd.jupyter.widget-view+json": {
       "model_id": "8886f227c1c4440e99d3e016537b7d5e",
       "version_major": 2,
       "version_minor": 0
      },
      "text/plain": [
       "MapView(layout=Layout(height='400px', width='100%'), legend=True)"
      ]
     },
     "metadata": {},
     "output_type": "display_data"
    },
    {
     "data": {
      "text/html": [
       "<div class=\"map-static-img-preview-7c615c49-9527-4018-a8a0-f8f729daa245\"><img src=\"\"></img></div>"
      ],
      "text/plain": [
       "<IPython.core.display.HTML object>"
      ]
     },
     "metadata": {},
     "output_type": "display_data"
    }
   ],
   "source": [
    "# YOUR CODE HERE\n",
    "# Second method: Voting Tabulation in Contributory rules\n",
    "# define colors to be maped\n",
    "clrmap4 =  [[1, 244, 66, 66], [2, 244, 178, 65], [3, 220, 244, 65], [4, 65, 244, 76]]\n",
    "\n",
    "# combine the three rasters into one using raster calculator based on Voting Tabulation in Contributory rules\n",
    "# this is where the error occurs, we will include this error in the report in the extra credit\n",
    "# basically it is because the dataset is too large to be used in raster calculator function\n",
    "rc_out2 = \\\n",
    "raster_calculator(rasters = [slope_b_c,rain_n_c,air_pollution_n_c,temperature_n_c], \\\n",
    "    input_names = [\"D\",\"a\",\"b\",\"c\"], expression = \"D + a + b + c\", extent_type='FirstOf',\n",
    "                      cellsize_type='FirstOf', astype='UNKNOWN')\n",
    "\n",
    "# assuming the previous function works, the code for showing the raster,\n",
    "# 1 for very not suitable and 2 for not suitable, 3 for suitable, 4 for very suitable relatively\n",
    "# we use red color for the label 1 and orange color for the label 2, yellowish green color for the label 3\n",
    "# green color for the label 4\n",
    "rc_out_2_b_c = colormap(rc_out2, colormap=clrmap4)\n",
    "map_ras2 = gis.map()\n",
    "map_ras2.extent = study_area_extent\n",
    "map_ras2.legend=True\n",
    "map_ras2.add_layer(rc_out_2_b_c)\n",
    "map_ras2"
   ]
  },
  {
   "cell_type": "code",
   "execution_count": 15,
   "metadata": {
    "deletable": false,
    "editable": false,
    "nbgrader": {
     "checksum": "09f02b8fa341438e759289f90c3a73e5",
     "grade": false,
     "grade_id": "cell-c15febfa1ae91b05",
     "locked": true,
     "schema_version": 1,
     "solution": false
    }
   },
   "outputs": [],
   "source": [
    "# 8. Compare the results, and describe how different map combination techniques resulted in different outputs (or not.)\n",
    "# "
   ]
  },
  {
   "cell_type": "code",
   "execution_count": 16,
   "metadata": {
    "deletable": false,
    "nbgrader": {
     "checksum": "ba766e99c73570a46c808b84dfe740b5",
     "grade": true,
     "grade_id": "cell-1465469141c58ea2",
     "locked": false,
     "points": 5,
     "schema_version": 1,
     "solution": true
    }
   },
   "outputs": [
    {
     "data": {
      "application/vnd.jupyter.widget-view+json": {
       "model_id": "df3a6517a0ae4b0fa7e004194fd7a230",
       "version_major": 2,
       "version_minor": 0
      },
      "text/plain": [
       "MapView(layout=Layout(height='400px', width='100%'), legend=True)"
      ]
     },
     "metadata": {},
     "output_type": "display_data"
    },
    {
     "data": {
      "text/html": [
       "<div class=\"map-static-img-preview-9fe824d6-7b85-43e9-924f-09caf9101e1f\"><img src=\"\"></img></div>"
      ],
      "text/plain": [
       "<IPython.core.display.HTML object>"
      ]
     },
     "metadata": {},
     "output_type": "display_data"
    }
   ],
   "source": [
    "# YOUR CODE HERE\n",
    "\n",
    "# Assuming there was no error in the raster calculator functions, we compare the map in the below\n",
    "map_ras"
   ]
  },
  {
   "cell_type": "code",
   "execution_count": 17,
   "metadata": {},
   "outputs": [
    {
     "data": {
      "application/vnd.jupyter.widget-view+json": {
       "model_id": "8886f227c1c4440e99d3e016537b7d5e",
       "version_major": 2,
       "version_minor": 0
      },
      "text/plain": [
       "MapView(layout=Layout(height='400px', width='100%'), legend=True)"
      ]
     },
     "metadata": {},
     "output_type": "display_data"
    },
    {
     "data": {
      "text/html": [
       "<div class=\"map-static-img-preview-7c615c49-9527-4018-a8a0-f8f729daa245\"><img src=\"\"></img></div>"
      ],
      "text/plain": [
       "<IPython.core.display.HTML object>"
      ]
     },
     "metadata": {},
     "output_type": "display_data"
    }
   ],
   "source": [
    "map_ras2"
   ]
  },
  {
   "cell_type": "markdown",
   "metadata": {},
   "source": [
    "In both map combination techniques, we found that there are quite a lot of suitable and unsuitable places in San Diego. Comparing to Exclusionary screening in Dominance rules in the first map, we found more suitable raster cells in Voting Tabulation in Contributory rules in the second map, which means that there are more places to choose for housing in the second map. The reason for this is simply due to voting mapping allows people to tell how many features that are suitable in each area. However, the exclusionary screening only presents places that has all features that are suitable. As a result, there are a lot of relatively suitable place are being ignored in the first mapping techniques (Exclusionary screening in Dominance rules). However, both of the techniques are not that great in our opinon, since everyone values the features importance differently, if anyone want to use this map, we should use weighted voting techniques according to such person's peference in order to find best suitable places according to peronal needs."
   ]
  },
  {
   "cell_type": "markdown",
   "metadata": {},
   "source": [
    "### Extra Credict: Issue Report"
   ]
  },
  {
   "cell_type": "markdown",
   "metadata": {},
   "source": [
    "Our map only works because we add the extra layer (slope) in the map. if we do not add this layer, the map will not show. And we documented such issue.\n",
    "\n",
    "The issue mainly happens in the raster combination.<br> \n",
    "Here is the question we found:<br>\n",
    "We tried different ways to perform map combination technique, both adding and multiplying.<br>\n",
    "They output results with the same error message : \"Unable to complete operation.\n",
    "Authentication token required. (status code 499).\" <br>\n",
    "After we carefully saw the problem, we found that whenever two large raster combines, the server will automatically complain the calculation.<br>\n",
    "In our scenario: we have three layers: A: 'usa_mean_rainfall', B: 'usa_mean_temperature', and C: 'global_air_pollution'. <br>\n",
    "We can do calculation in following scenarios:<br>\n",
    "    - A times or adds C\n",
    "    - B times or adds C\n",
    "The server will output error in following scenarios: <br>\n",
    "    - A times or adds B\n",
    "    - (A times or add B) times or add C\n",
    "    - (A times or add C) times or add B\n",
    "    - (B times or add A) times or add C\n",
    "    - (B times or add C) times or add A\n",
    "    - (C times or add A) times or add B\n",
    "    - (C times or add B) times or add A\n",
    "Since 'usa_mean_rainfall' and 'usa_mean_temperature' came from the same source (both under the link: https://landscape3.arcgis.com/arcgis/rest/services/\" , we can exclude the possibility the error comes from the problem of datasets. <br>\n",
    "\n",
    "The error occurs in the following raster_calculator functions:\n",
    "    - rc_out1 = raster_calculator(rasters = [rain_n_c,air_pollution_n_c,temperature_n_c], \\\n",
    "                    input_names = [\"a\",\"b\",\"c\"], expression = \"a * b * c\", extent_type='FirstOf',\n",
    "                    cellsize_type='FirstOf', astype='UNKNOWN')\n",
    "    - rc_out2 = raster_calculator(rasters = [rain_n_c,air_pollution_n_c,temperature_n_c], \\\n",
    "                    input_names = [\"a\",\"b\",\"c\"], expression = \"a + b + c\", extent_type='FirstOf',\n",
    "                    cellsize_type='FirstOf', astype='UNKNOWN')\n",
    "            \n",
    "We performed folloing commands to exam the attributes of the error, and the output is:\n",
    "    - >>> temperature_n_c.compute_histograms(geometry=study_area_geom)\n",
    "    - {'histograms': [{'size': 2, 'min': -0.5, 'max': 1.5, 'counts': [4146, 8445]}]}\n",
    "    - ###The histogram summary of our binary transformed raster of 'usa_mean_temperature' in study area###\n",
    "    - ###########################################################################################################\n",
    "    - >>> rain_n_c.compute_histograms(geometry=study_area_geom)\n",
    "    - {'histograms': [{'size': 2, 'min': -0.5, 'max': 1.5, 'counts': [2338, 8728]}]}\n",
    "    - ###The histogram summary of our binary transformed raster of 'usa_mean_rainfall' in study area###\n",
    "    - ###########################################################################################################\n",
    "    - >>> air_pollution_n_c.compute_histograms(geometry=study_area_geom)\n",
    "    - {'histograms': [{'size': 2, 'min': -0.5, 'max': 1.5, 'counts': [21, 74]}]}\n",
    "    - ###The histogram summary of our binary transformed raster of 'global_air_pollution' in study area###\n",
    "Based on the observation above, we found that the layer 'usa_mean_temperature' and 'usa_mean_rainfall' are large raster with significantly large sets: one counts as 4146, 8445 and the other counts as 2338 and 8728.<br>\n",
    "While, the raster 'air_pollution_n_c' counts as only 21, 74, which is a significantly smaller layer.<br>\n",
    "Then, we suggest the combining of two large raster will demand relatively high computation in the Arcgis server, which will interrupt the raster calculation process.<br>"
   ]
  },
  {
   "cell_type": "code",
   "execution_count": 18,
   "metadata": {},
   "outputs": [],
   "source": [
    "# Please let us know how much time you spent on this project, in hours: \n",
    "# (we will only examine distributions and won't look at individual responses)\n",
    "assignment_timespent = 25\n",
    "extracredit_timespent = 5"
   ]
  },
  {
   "cell_type": "code",
   "execution_count": null,
   "metadata": {},
   "outputs": [],
   "source": []
  }
 ],
 "metadata": {
  "kernelspec": {
   "display_name": "Python 3",
   "language": "python",
   "name": "python3"
  },
  "language_info": {
   "codemirror_mode": {
    "name": "ipython",
    "version": 3
   },
   "file_extension": ".py",
   "mimetype": "text/x-python",
   "name": "python",
   "nbconvert_exporter": "python",
   "pygments_lexer": "ipython3",
   "version": "3.6.8"
  }
 },
 "nbformat": 4,
 "nbformat_minor": 2
}
